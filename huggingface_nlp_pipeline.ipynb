{
  "nbformat": 4,
  "nbformat_minor": 0,
  "metadata": {
    "kernelspec": {
      "display_name": "Python 3",
      "name": "python3"
    },
    "language_info": {
      "codemirror_mode": {
        "name": "ipython",
        "version": 3
      },
      "file_extension": ".py",
      "mimetype": "text/x-python",
      "name": "python",
      "nbconvert_exporter": "python",
      "pygments_lexer": "ipython3",
      "version": "3.8.5"
    },
    "colab": {
      "provenance": [],
      "gpuType": "T4"
    }
  },
  "cells": [
    {
      "cell_type": "markdown",
      "source": [
        "<table>\n",
        "    <tr>\n",
        "        <td><img src=\"https://s3.amazonaws.com/media-p.slid.es/uploads/1485763/images/9060062/Header.png\" width=\"300\"/></td>\n",
        "        <td>&nbsp;</td>\n",
        "        <td>\n",
        "            <h1 style=\"font-size:200%;color:blue;text-align:center\">    <FONT COLOR=\"blue\">  Hugging_Face</p> Pipeline  </FONT>         </h1></td>         \n",
        "        <td>\n",
        "            <tp><p style=\"font-size:99%;text-align:center\">PLN 2024-1 </p></tp>\n",
        "            <tp><p style=\"font-size:115%;text-align:center\">Pregrado MACC</p></tp>\n",
        "            <tp><p style=\"font-size:115%;text-align:center\">Prof. Fabián Sánchez</p></tp>\n",
        "        </td>\n",
        "    </tr>\n",
        "</table>"
      ],
      "metadata": {
        "id": "30smAYcXI1l5"
      }
    },
    {
      "cell_type": "markdown",
      "source": [
        "# NLP with Hugging Face Transformers\n",
        "\n",
        "This notebook demonstrates how to use the `pipeline` API from Hugging Face's `transformers` library to solve common NLP tasks using pre-trained models.\n"
      ],
      "metadata": {
        "id": "SgGQ4qZE8pOP"
      }
    },
    {
      "cell_type": "markdown",
      "source": [
        "<FONT SIZE=5 COLOR=\"purple\"> 1. Load Required Pipeline Function<FONT/>\n",
        "\n",
        "We import the `pipeline` utility from Hugging Face Transformers, which is a simple and optimized inference class for many machine learning tasks like text generation, image segmentation, automatic speech recognition, document question answering, and more.\n"
      ],
      "metadata": {
        "id": "1aDGRoUY8x-z"
      }
    },
    {
      "cell_type": "code",
      "source": [
        "from transformers import pipeline"
      ],
      "metadata": {
        "id": "n6xvNkkrmh3b"
      },
      "execution_count": null,
      "outputs": []
    },
    {
      "cell_type": "markdown",
      "source": [
        "# <FONT SIZE=5 COLOR=\"purple\"> 2.  Sentiment Analysis </FONT>\n",
        "We use the `\"sentiment-analysis\"` pipeline, which defaults to a DistilBERT model fine-tuned on SST-2. This allows us to classify text as positive or negative sentiment."
      ],
      "metadata": {
        "id": "Fl6ALB2Ie5Ea"
      }
    },
    {
      "cell_type": "code",
      "source": [
        "classifier = pipeline(\"sentiment-analysis\")\n",
        "print(classifier(\"I am a bad student because i don't like to study\"))\n",
        "print(classifier(\"I like to go to the cinema\"))"
      ],
      "metadata": {
        "id": "zIEMIsPYmurh"
      },
      "execution_count": null,
      "outputs": []
    },
    {
      "cell_type": "markdown",
      "source": [
        "# <FONT SIZE=5 COLOR=\"purple\"> 3. Text Generation</FONT>\n",
        "First, we use a language model pipeline (GPT-2 by default), and then a specific Spanish GPT-2 model fine-tuned for Spanish to generate new text based on a prompt.\n"
      ],
      "metadata": {
        "id": "svH7wRXLfW0Z"
      }
    },
    {
      "cell_type": "code",
      "source": [
        "generator = pipeline(\"text-generation\")\n",
        "generator('I am a math professor and',\n",
        "          max_length=40,\n",
        "          num_return_sequences=3,\n",
        "          )"
      ],
      "metadata": {
        "id": "Ih3PCRxmm0g1"
      },
      "execution_count": null,
      "outputs": []
    },
    {
      "cell_type": "code",
      "source": [
        "generator = pipeline('text-generation', model='mrm8488/spanish-gpt2')\n",
        "generator(\"Su casa es muy bonita\",\n",
        "           max_length=30,\n",
        "           num_return_sequences=2,\n",
        "           top_k = 0)"
      ],
      "metadata": {
        "id": "3SZMiGLanVk8"
      },
      "execution_count": null,
      "outputs": []
    },
    {
      "cell_type": "markdown",
      "source": [
        "# <FONT SIZE=5 COLOR=\"purple\"> 4. Masked Language Modeling (Fill-Mask) </FONT>\n",
        "This task predicts missing tokens in a sentence. The `fill-mask` pipeline uses models like RoBERTa or BERT to complete masked input.\n"
      ],
      "metadata": {
        "id": "9FY0bcuTf1Qd"
      }
    },
    {
      "cell_type": "code",
      "source": [
        "unmasker = pipeline('fill-mask')\n",
        "unmasker('This course teach you about <mask> models.', top_k=2)"
      ],
      "metadata": {
        "id": "esLTjRafm4ff"
      },
      "execution_count": null,
      "outputs": []
    },
    {
      "cell_type": "markdown",
      "source": [
        "# <FONT SIZE=5 COLOR=\"purple\"> 5. Named Entity Recognition (NER)  </FONT>\n",
        "This task identifies and classifies named entities in text (such as people, organizations, and locations) using a model with entity grouping enabled.\n",
        ""
      ],
      "metadata": {
        "id": "mWnMeWDllAIw"
      }
    },
    {
      "cell_type": "code",
      "source": [
        "ner = pipeline('ner', grouped_entities=True)\n",
        "ner(\"My name is Fabian and I work at a University in Bogotá\")"
      ],
      "metadata": {
        "id": "3S44YbB5m8k1"
      },
      "execution_count": null,
      "outputs": []
    },
    {
      "cell_type": "markdown",
      "source": [
        "# <FONT SIZE=5 COLOR=\"purple\"> 5. Question answering  </FONT>\n",
        "Question answering tasks return an answer given a question."
      ],
      "metadata": {
        "id": "jH2quyuflnUk"
      }
    },
    {
      "cell_type": "code",
      "source": [
        "question_answer = pipeline(\"question-answering\")\n",
        "question_answer(question=\"What is your name?\",\n",
        "                context=\"My name is John and I work at HuggingFace in Brooklyn\")"
      ],
      "metadata": {
        "id": "qkcSbsAvm_tJ"
      },
      "execution_count": null,
      "outputs": []
    },
    {
      "cell_type": "markdown",
      "source": [
        "# <FONT SIZE=5 COLOR=\"purple\"> 6. Summarization  </FONT>\n",
        "Summarization creates a shorter version of a document or an article that captures all the important information."
      ],
      "metadata": {
        "id": "g9bttp_rl-s7"
      }
    },
    {
      "cell_type": "code",
      "source": [
        "summarizer = pipeline(\"summarization\")\n",
        "summarizer(\"\"\"World War II or the Second World War (1 September 1939 – 2 September 1945) was a global conflict between two major alliances:\n",
        "the Allies and the Axis powers. The vast majority of the worlds countries, including all the great powers, fought as part of\n",
        "these military alliances. Many participating countries invested all available economic, industrial, and scientific capabilities\n",
        "into this total war, blurring the distinction between civilian and military resources. Aircraft played a major role, enabling the\n",
        "strategic bombing of population centres and delivery of the only two nuclear weapons ever used in war. It was by far the deadliest\n",
        "conflict in history, resulting in 70–85 million fatalities. Millions died due to genocides, including the Holocaust,\n",
        "as well as starvation, massacres, and disease. In the wake of Axis defeat, Germany, Austria, and Japan were occupied,\n",
        "and war crime tribunals were conducted against German and Japanese leaders.\"\"\")"
      ],
      "metadata": {
        "id": "DLm9qa2JnEAJ"
      },
      "execution_count": null,
      "outputs": []
    },
    {
      "cell_type": "code",
      "source": [
        "summarizer = pipeline(\"summarization\")\n",
        "summarizer(\"\"\"America has changed dramatically during recent years. Not only has the number of\n",
        "    graduates in traditional engineering disciplines such as mechanical, civil,\n",
        "    electrical, chemical, and aeronautical engineering declined, but in most of\n",
        "    the premier American universities engineering curricula now concentrate on\n",
        "    and encourage largely the study of engineering science. As a result, there\n",
        "    are declining offerings in engineering subjects dealing with infrastructure,\n",
        "    the environment, and related issues, and greater concentration on high\n",
        "    technology subjects, largely supporting increasingly complex scientific\n",
        "    developments. While the latter is important, it should not be at the expense\n",
        "    of more traditional engineering.\n",
        "\n",
        "    Rapidly developing economies such as China and India, as well as other\n",
        "    industrial countries in Europe and Asia, continue to encourage and advance\n",
        "    the teaching of engineering. Both China and India, respectively, graduate\n",
        "    six and eight times as many traditional engineers as does the United States.\n",
        "    Other industrial countries at minimum maintain their output, while America\n",
        "    suffers an increasingly serious decline in the number of engineering graduates\n",
        "    and a lack of well-educated engineers.\"\"\")"
      ],
      "metadata": {
        "id": "koYKGDeXoHTu"
      },
      "execution_count": null,
      "outputs": []
    },
    {
      "cell_type": "markdown",
      "source": [
        "# <FONT SIZE=5 COLOR=\"purple\"> 7. Translation </FONT>\n",
        "Translation converts a sequence of text from one language to another"
      ],
      "metadata": {
        "id": "QObk3u_4oQsr"
      }
    },
    {
      "cell_type": "code",
      "source": [
        "translator = pipeline(\"translation\", model=\"Helsinki-NLP/opus-mt-en-es\")\n",
        "translator(\"\"\"World War II or the Second World War (1 September 1939 – 2 September 1945) was a global conflict between two major alliances:\n",
        "the Allies and the Axis powers. The vast majority of the worlds countries, including all the great powers, fought as part of\n",
        "these military alliances. Many participating countries invested all available economic, industrial, and scientific capabilities\n",
        "into this total war, blurring the distinction between civilian and military resources. Aircraft played a major role, enabling the\n",
        "strategic bombing of population centres and delivery of the only two nuclear weapons ever used in war. It was by far the deadliest\n",
        "conflict in history, resulting in 70–85 million fatalities. Millions died due to genocides, including the Holocaust,\n",
        "as well as starvation, massacres, and disease. In the wake of Axis defeat, Germany, Austria, and Japan were occupied,\n",
        "and war crime tribunals were conducted against German and Japanese leaders.\n",
        "\"\"\")"
      ],
      "metadata": {
        "id": "vWowNE3jnH29"
      },
      "execution_count": null,
      "outputs": []
    },
    {
      "cell_type": "markdown",
      "source": [
        "# <FONT SIZE=5 COLOR=\"purple\"> 8. Text classification </FONT>\n",
        "Text classification is a common NLP task that assigns a label or class to text."
      ],
      "metadata": {
        "id": "8Nm9oiBoos6P"
      }
    },
    {
      "cell_type": "code",
      "source": [
        "classifier = pipeline('zero-shot-classification')\n",
        "classifier(\"This is a course about the Natural language processing\",\n",
        "          candidate_labels=['education', 'politics', 'bussines'])"
      ],
      "metadata": {
        "id": "rik3fs8pnORF"
      },
      "execution_count": null,
      "outputs": []
    }
  ]
}